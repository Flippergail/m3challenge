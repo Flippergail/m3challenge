{
 "cells": [
  {
   "cell_type": "code",
   "execution_count": 1,
   "metadata": {},
   "outputs": [
    {
     "name": "stderr",
     "output_type": "stream",
     "text": [
      "C:\\Users\\ticar\\AppData\\Local\\Temp\\ipykernel_54220\\1127981252.py:4: DeprecationWarning: \n",
      "Pyarrow will become a required dependency of pandas in the next major release of pandas (pandas 3.0),\n",
      "(to allow more performant data types, such as the Arrow string type, and better interoperability with other libraries)\n",
      "but was not found to be installed on your system.\n",
      "If this would cause problems for you,\n",
      "please provide us feedback at https://github.com/pandas-dev/pandas/issues/54466\n",
      "        \n",
      "  import pandas as pd\n"
     ]
    }
   ],
   "source": [
    "import math\n",
    "\n",
    "import numpy as np\n",
    "import pandas as pd\n",
    "import matplotlib.pyplot as plt\n",
    "from sklearn.linear_model import LogisticRegression\n",
    "from sklearn.preprocessing import StandardScaler\n",
    "from sklearn.model_selection import train_test_split\n",
    "from sklearn.metrics import accuracy_score, confusion_matrix"
   ]
  },
  {
   "cell_type": "code",
   "execution_count": 2,
   "metadata": {},
   "outputs": [],
   "source": [
    "#calculating percentage of poverty in each subregions in region A\n",
    "income={\n",
    "    'A':[27941,30929,47163,34273,30425,46659],\n",
    "    'B':[99652,134375,173188,112306,108056,147500,132045],\n",
    "    'C':[214125,96209,190729,139261,152500,206875,151731]\n",
    "}\n",
    "povertyRate={\n",
    "    'A':[20.1],\n",
    "    'B':[4.2,5,0.41,3.83,6.73,2.45,3.4,0.78],\n",
    "    'C':[9.8,2.27,12.6,9.61,5.31,1.21,2.31,1.2]\n",
    "}\n",
    "unemployment={\n",
    "    'A':[3],\n",
    "    'B':[3,2,2,3.09,2,1.59,1.59,1.59],\n",
    "    'C':[3.8,3.71,3.71,5.34,5.34,5.34,4.64,4.64]\n",
    "}\n",
    "medianAge={\n",
    "    'A':[35.5,28.2,30.2,40.7,64.3,37.8,36.9],\n",
    "    'B':[46.6,47.7,48.2,59,36.3,55.1,45.5,53.8],\n",
    "    'C':[41.3,41.67,34.9,47.1,44.7,32.7,47.9,40.7]\n",
    "}\n",
    "computerPercentage={\n",
    "    'A':[64.3],\n",
    "    'B':[92.77],\n",
    "    'C':[89.49]\n",
    "}\n",
    "\n"
   ]
  }
 ],
 "metadata": {
  "kernelspec": {
   "display_name": "Python 3",
   "language": "python",
   "name": "python3"
  },
  "language_info": {
   "codemirror_mode": {
    "name": "ipython",
    "version": 3
   },
   "file_extension": ".py",
   "mimetype": "text/x-python",
   "name": "python",
   "nbconvert_exporter": "python",
   "pygments_lexer": "ipython3",
   "version": "3.12.2"
  }
 },
 "nbformat": 4,
 "nbformat_minor": 2
}
