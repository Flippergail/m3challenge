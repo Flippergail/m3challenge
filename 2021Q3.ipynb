{
 "cells": [
  {
   "cell_type": "code",
   "execution_count": null,
   "metadata": {},
   "outputs": [],
   "source": [
    "import math\n",
    "\n",
    "import numpy as np\n",
    "import pandas as pd\n",
    "import matplotlib.pyplot as plt\n",
    "from sklearn.linear_model import LogisticRegression\n",
    "from sklearn.preprocessing import StandardScaler\n",
    "from sklearn.model_selection import train_test_split\n",
    "from sklearn.metrics import accuracy_score, confusion_matrix"
   ]
  },
  {
   "cell_type": "code",
   "execution_count": null,
   "metadata": {},
   "outputs": [],
   "source": [
    "#calculating percentage of poverty in each subregions in region A\n",
    "householdIncome=[\n",
    "    {\n",
    "        '1':27941,\n",
    "        '2':30929,\n",
    "        '3':47163,\n",
    "        '4':34273,\n",
    "        '5':30425,\n",
    "        '6':46659\n",
    "    },\n",
    "    {\n",
    "        '1':99652,\n",
    "        '2':134375,\n",
    "        '3':173188,\n",
    "        '4':112306,\n",
    "        '5':108056,\n",
    "        '6':147500,\n",
    "        '7':132045\n",
    "    },\n",
    "    {\n",
    "        '1':214125,\n",
    "        '2':96209,\n",
    "        '3':190729,\n",
    "        '4':139261,\n",
    "        '5':152500,\n",
    "        '6':206875,\n",
    "        '7':151731\n",
    "    }\n",
    "]\n",
    "percentPoverty={\n",
    "    'A':20.1,\n",
    "}\n",
    "for household in householdIncome:\n",
    "    subPercentPoverty=percentPoverty[household]"
   ]
  }
 ],
 "metadata": {
  "language_info": {
   "name": "python"
  }
 },
 "nbformat": 4,
 "nbformat_minor": 2
}
