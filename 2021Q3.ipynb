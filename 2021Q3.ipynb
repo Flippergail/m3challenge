{
 "cells": [
  {
   "cell_type": "code",
   "execution_count": 4,
   "metadata": {},
   "outputs": [
    {
     "name": "stderr",
     "output_type": "stream",
     "text": [
      "C:\\Users\\ticar\\AppData\\Local\\Temp\\ipykernel_17904\\1127981252.py:4: DeprecationWarning: \n",
      "Pyarrow will become a required dependency of pandas in the next major release of pandas (pandas 3.0),\n",
      "(to allow more performant data types, such as the Arrow string type, and better interoperability with other libraries)\n",
      "but was not found to be installed on your system.\n",
      "If this would cause problems for you,\n",
      "please provide us feedback at https://github.com/pandas-dev/pandas/issues/54466\n",
      "        \n",
      "  import pandas as pd\n"
     ]
    }
   ],
   "source": [
    "import math\n",
    "\n",
    "import numpy as np\n",
    "import pandas as pd\n",
    "import matplotlib.pyplot as plt\n",
    "from sklearn.linear_model import LogisticRegression\n",
    "from sklearn.preprocessing import StandardScaler\n",
    "from sklearn.model_selection import train_test_split\n",
    "from sklearn.metrics import accuracy_score, confusion_matrix"
   ]
  },
  {
   "cell_type": "code",
   "execution_count": 18,
   "metadata": {},
   "outputs": [],
   "source": [
    "#calculating percentage of poverty in each subregions in region A\n",
    "income={\n",
    "    'A':[27941,30929,47163,34273,30425,46659],\n",
    "    'B':[99652,134375,173188,112306,108056,147500,132045],\n",
    "    'C':[214125,96209,190729,139261,152500,206875,151731]\n",
    "}\n",
    "povertyRate={\n",
    "    'A':[20.1],\n",
    "    'B':[4.2,5,0.41,3.83,6.73,2.45,3.4,0.78],\n",
    "    'C':[9.8,2.27,12.6,9.61,5.31,1.21,2.31,1.2]\n",
    "}\n",
    "unemployment={\n",
    "    'A':[3],\n",
    "    'B':[3,2,2,3.09,2,1.59,1.59,1.59],\n",
    "    'C':[3.8,3.71,3.71,5.34,5.34,5.34,4.64,4.64]\n",
    "}"
   ]
  },
  {
   "cell_type": "code",
   "execution_count": 23,
   "metadata": {},
   "outputs": [
    {
     "ename": "ValueError",
     "evalue": "setting an array element with a sequence. The requested array has an inhomogeneous shape after 1 dimensions. The detected shape was (3,) + inhomogeneous part.",
     "output_type": "error",
     "traceback": [
      "\u001b[1;31m---------------------------------------------------------------------------\u001b[0m",
      "\u001b[1;31mValueError\u001b[0m                                Traceback (most recent call last)",
      "Cell \u001b[1;32mIn[23], line 2\u001b[0m\n\u001b[0;32m      1\u001b[0m \u001b[38;5;66;03m#making array\u001b[39;00m\n\u001b[1;32m----> 2\u001b[0m income_array\u001b[38;5;241m=\u001b[39m \u001b[43mnp\u001b[49m\u001b[38;5;241;43m.\u001b[39;49m\u001b[43marray\u001b[49m\u001b[43m(\u001b[49m\u001b[38;5;28;43mlist\u001b[39;49m\u001b[43m(\u001b[49m\u001b[43mincome\u001b[49m\u001b[38;5;241;43m.\u001b[39;49m\u001b[43mvalues\u001b[49m\u001b[43m(\u001b[49m\u001b[43m)\u001b[49m\u001b[43m)\u001b[49m\u001b[43m)\u001b[49m\u001b[38;5;241m.\u001b[39mreshape(\u001b[38;5;241m-\u001b[39m\u001b[38;5;241m1\u001b[39m, \u001b[38;5;241m1\u001b[39m)\n\u001b[0;32m      3\u001b[0m povertyRate_array\u001b[38;5;241m=\u001b[39m np\u001b[38;5;241m.\u001b[39marray(\u001b[38;5;28mlist\u001b[39m(povertyRate\u001b[38;5;241m.\u001b[39mvalues()))\n\u001b[0;32m      4\u001b[0m unemployment_array\u001b[38;5;241m=\u001b[39m np\u001b[38;5;241m.\u001b[39marray(\u001b[38;5;28mlist\u001b[39m(unemployment\u001b[38;5;241m.\u001b[39mvalues()))\n",
      "\u001b[1;31mValueError\u001b[0m: setting an array element with a sequence. The requested array has an inhomogeneous shape after 1 dimensions. The detected shape was (3,) + inhomogeneous part."
     ]
    }
   ],
   "source": [
    "#making array\n",
    "income_array= np.array(list(income.values())).reshape(-1, 1)\n",
    "povertyRate_array= np.array(list(povertyRate.values()))\n",
    "unemployment_array= np.array(list(unemployment.values()))"
   ]
  },
  {
   "cell_type": "code",
   "execution_count": 16,
   "metadata": {},
   "outputs": [
    {
     "ename": "NameError",
     "evalue": "name 'Income' is not defined",
     "output_type": "error",
     "traceback": [
      "\u001b[1;31m---------------------------------------------------------------------------\u001b[0m",
      "\u001b[1;31mNameError\u001b[0m                                 Traceback (most recent call last)",
      "Cell \u001b[1;32mIn[16], line 1\u001b[0m\n\u001b[1;32m----> 1\u001b[0m plt\u001b[38;5;241m.\u001b[39mplot(\u001b[43mIncome\u001b[49m,povertyRate )\n\u001b[0;32m      2\u001b[0m plt\u001b[38;5;241m.\u001b[39mxlabel(\u001b[38;5;124m'\u001b[39m\u001b[38;5;124mIncomes\u001b[39m\u001b[38;5;124m'\u001b[39m)\n\u001b[0;32m      3\u001b[0m plt\u001b[38;5;241m.\u001b[39mylabel(\u001b[38;5;124m'\u001b[39m\u001b[38;5;124mPoverty Rate\u001b[39m\u001b[38;5;124m'\u001b[39m)\n",
      "\u001b[1;31mNameError\u001b[0m: name 'Income' is not defined"
     ]
    }
   ],
   "source": [
    "plt.plot(Income,povertyRate )\n",
    "plt.xlabel('Incomes')\n",
    "plt.ylabel('Poverty Rate')\n",
    "\n",
    "plt.title('Poverty Rate and Income corelation')\n",
    "\n",
    "regression = np.polyfit(range(len(povertyRate)), povertyRate, 1)\n",
    "\n",
    "trend = np.poly1d(regression)\n",
    "\n",
    "plt.plot(trend(range(len(povertyRate))), \"r--\")\n",
    "\n",
    "# Extrapolate the trend line\n",
    "extrapolated_x = range(len(povertyRate), len(povertyRate) + 12)  # Extend the x-values by 12 months\n",
    "extrapolated_y = np.polyval(regression, extrapolated_x)  # Calculate the corresponding y-values\n",
    "\n",
    "plt.plot(extrapolated_x, extrapolated_y, linestyle='--', color='g', label='Extrapolated Trend')\n",
    "\n",
    "predictedValue = np.polyval(regression, len(povertyRate) + 12)\n",
    "\n",
    "print(f\"Estimated number of semi trucks sold in the US 12 months from now: {round(predictedValue)}\")\n",
    "\n",
    "plt.show()"
   ]
  }
 ],
 "metadata": {
  "kernelspec": {
   "display_name": "Python 3",
   "language": "python",
   "name": "python3"
  },
  "language_info": {
   "codemirror_mode": {
    "name": "ipython",
    "version": 3
   },
   "file_extension": ".py",
   "mimetype": "text/x-python",
   "name": "python",
   "nbconvert_exporter": "python",
   "pygments_lexer": "ipython3",
   "version": "3.12.2"
  }
 },
 "nbformat": 4,
 "nbformat_minor": 2
}
